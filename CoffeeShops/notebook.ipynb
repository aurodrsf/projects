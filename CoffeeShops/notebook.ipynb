{
 "cells": [
  {
   "cell_type": "markdown",
   "metadata": {
    "id": "bA5ajAmk7XH6"
   },
   "source": [
    "# Coffee Shop Market in Ukraine\n",
    "\n",
    "An analysis of the coffee shop market in Ukraine. We'll see if there's any interesting patterns in the data."
   ]
  },
  {
   "cell_type": "code",
   "execution_count": 1,
   "metadata": {
    "scrolled": true,
    "tags": []
   },
   "outputs": [],
   "source": [
    "# Use this cell to begin, and add as many cells as you need to complete your analysis!\n",
    "import pandas as pd\n",
    "import matplotlib.pyplot as plt\n",
    "import seaborn as sns\n",
    "\n",
    "df = pd.read_csv('data/coffee_shops.csv')"
   ]
  },
  {
   "cell_type": "code",
   "execution_count": 2,
   "metadata": {
    "tags": []
   },
   "outputs": [
    {
     "data": {
      "text/html": [
       "<div>\n",
       "<style scoped>\n",
       "    .dataframe tbody tr th:only-of-type {\n",
       "        vertical-align: middle;\n",
       "    }\n",
       "\n",
       "    .dataframe tbody tr th {\n",
       "        vertical-align: top;\n",
       "    }\n",
       "\n",
       "    .dataframe thead th {\n",
       "        text-align: right;\n",
       "    }\n",
       "</style>\n",
       "<table border=\"1\" class=\"dataframe\">\n",
       "  <thead>\n",
       "    <tr style=\"text-align: right;\">\n",
       "      <th></th>\n",
       "      <th>Region</th>\n",
       "      <th>Place name</th>\n",
       "      <th>Place type</th>\n",
       "      <th>Rating</th>\n",
       "      <th>Reviews</th>\n",
       "      <th>Price</th>\n",
       "      <th>Delivery option</th>\n",
       "      <th>Dine in option</th>\n",
       "      <th>Takeout option</th>\n",
       "    </tr>\n",
       "  </thead>\n",
       "  <tbody>\n",
       "    <tr>\n",
       "      <th>0</th>\n",
       "      <td>Mariupol</td>\n",
       "      <td>Dim Kavu</td>\n",
       "      <td>Coffee store</td>\n",
       "      <td>4.6</td>\n",
       "      <td>206.0</td>\n",
       "      <td>NaN</td>\n",
       "      <td>NaN</td>\n",
       "      <td>NaN</td>\n",
       "      <td>NaN</td>\n",
       "    </tr>\n",
       "    <tr>\n",
       "      <th>1</th>\n",
       "      <td>Mariupol</td>\n",
       "      <td>Коферум</td>\n",
       "      <td>Cafe</td>\n",
       "      <td>5.0</td>\n",
       "      <td>24.0</td>\n",
       "      <td>$$</td>\n",
       "      <td>False</td>\n",
       "      <td>NaN</td>\n",
       "      <td>True</td>\n",
       "    </tr>\n",
       "    <tr>\n",
       "      <th>2</th>\n",
       "      <td>Mariupol</td>\n",
       "      <td>Кофейня Світ Чаю</td>\n",
       "      <td>Coffee shop</td>\n",
       "      <td>5.0</td>\n",
       "      <td>11.0</td>\n",
       "      <td>NaN</td>\n",
       "      <td>NaN</td>\n",
       "      <td>NaN</td>\n",
       "      <td>True</td>\n",
       "    </tr>\n",
       "    <tr>\n",
       "      <th>3</th>\n",
       "      <td>Mariupol</td>\n",
       "      <td>Кофейня Starcoff</td>\n",
       "      <td>Coffee shop</td>\n",
       "      <td>4.4</td>\n",
       "      <td>331.0</td>\n",
       "      <td>$$</td>\n",
       "      <td>False</td>\n",
       "      <td>True</td>\n",
       "      <td>True</td>\n",
       "    </tr>\n",
       "    <tr>\n",
       "      <th>4</th>\n",
       "      <td>Mariupol</td>\n",
       "      <td>Кофейня \"Friend Zone\"</td>\n",
       "      <td>Coffee shop</td>\n",
       "      <td>5.0</td>\n",
       "      <td>12.0</td>\n",
       "      <td>NaN</td>\n",
       "      <td>NaN</td>\n",
       "      <td>True</td>\n",
       "      <td>True</td>\n",
       "    </tr>\n",
       "    <tr>\n",
       "      <th>5</th>\n",
       "      <td>Mariupol</td>\n",
       "      <td>Racers Coffee Shop</td>\n",
       "      <td>Espresso bar</td>\n",
       "      <td>4.6</td>\n",
       "      <td>367.0</td>\n",
       "      <td>$$</td>\n",
       "      <td>False</td>\n",
       "      <td>True</td>\n",
       "      <td>True</td>\n",
       "    </tr>\n",
       "    <tr>\n",
       "      <th>6</th>\n",
       "      <td>Mariupol</td>\n",
       "      <td>Займемся Кофе</td>\n",
       "      <td>Coffee shop</td>\n",
       "      <td>4.6</td>\n",
       "      <td>200.0</td>\n",
       "      <td>$$</td>\n",
       "      <td>False</td>\n",
       "      <td>True</td>\n",
       "      <td>True</td>\n",
       "    </tr>\n",
       "    <tr>\n",
       "      <th>7</th>\n",
       "      <td>Mariupol</td>\n",
       "      <td>Кофейня Rit Rit</td>\n",
       "      <td>Coffee shop</td>\n",
       "      <td>4.6</td>\n",
       "      <td>292.0</td>\n",
       "      <td>$$</td>\n",
       "      <td>False</td>\n",
       "      <td>NaN</td>\n",
       "      <td>True</td>\n",
       "    </tr>\n",
       "    <tr>\n",
       "      <th>8</th>\n",
       "      <td>Mariupol</td>\n",
       "      <td>Кав'ярня My coffee</td>\n",
       "      <td>Coffee shop</td>\n",
       "      <td>4.8</td>\n",
       "      <td>31.0</td>\n",
       "      <td>NaN</td>\n",
       "      <td>NaN</td>\n",
       "      <td>True</td>\n",
       "      <td>True</td>\n",
       "    </tr>\n",
       "    <tr>\n",
       "      <th>9</th>\n",
       "      <td>Mariupol</td>\n",
       "      <td>LENЬ. Coffee &amp; desserts.</td>\n",
       "      <td>Coffee shop</td>\n",
       "      <td>4.8</td>\n",
       "      <td>125.0</td>\n",
       "      <td>$$</td>\n",
       "      <td>True</td>\n",
       "      <td>True</td>\n",
       "      <td>True</td>\n",
       "    </tr>\n",
       "  </tbody>\n",
       "</table>\n",
       "</div>"
      ],
      "text/plain": [
       "     Region                Place name    Place type  Rating  Reviews Price  \\\n",
       "0  Mariupol                  Dim Kavu  Coffee store     4.6    206.0   NaN   \n",
       "1  Mariupol                   Коферум          Cafe     5.0     24.0    $$   \n",
       "2  Mariupol          Кофейня Світ Чаю   Coffee shop     5.0     11.0   NaN   \n",
       "3  Mariupol          Кофейня Starcoff   Coffee shop     4.4    331.0    $$   \n",
       "4  Mariupol     Кофейня \"Friend Zone\"   Coffee shop     5.0     12.0   NaN   \n",
       "5  Mariupol        Racers Coffee Shop  Espresso bar     4.6    367.0    $$   \n",
       "6  Mariupol             Займемся Кофе   Coffee shop     4.6    200.0    $$   \n",
       "7  Mariupol           Кофейня Rit Rit   Coffee shop     4.6    292.0    $$   \n",
       "8  Mariupol        Кав'ярня My coffee   Coffee shop     4.8     31.0   NaN   \n",
       "9  Mariupol  LENЬ. Coffee & desserts.   Coffee shop     4.8    125.0    $$   \n",
       "\n",
       "  Delivery option Dine in option Takeout option  \n",
       "0             NaN            NaN            NaN  \n",
       "1           False            NaN           True  \n",
       "2             NaN            NaN           True  \n",
       "3           False           True           True  \n",
       "4             NaN           True           True  \n",
       "5           False           True           True  \n",
       "6           False           True           True  \n",
       "7           False            NaN           True  \n",
       "8             NaN           True           True  \n",
       "9            True           True           True  "
      ]
     },
     "execution_count": 2,
     "metadata": {},
     "output_type": "execute_result"
    }
   ],
   "source": [
    "df.head(10)"
   ]
  },
  {
   "cell_type": "markdown",
   "metadata": {},
   "source": [
    "Here we start by taking a first look into the data. It has a couple missing values so we have to clean them soon.\n",
    "There's a region, a store type, the rating and reviews columns, the price category and the delivery options."
   ]
  },
  {
   "cell_type": "code",
   "execution_count": 3,
   "metadata": {
    "tags": []
   },
   "outputs": [
    {
     "name": "stdout",
     "output_type": "stream",
     "text": [
      "<class 'pandas.core.frame.DataFrame'>\n",
      "RangeIndex: 200 entries, 0 to 199\n",
      "Data columns (total 9 columns):\n",
      " #   Column           Non-Null Count  Dtype  \n",
      "---  ------           --------------  -----  \n",
      " 0   Region           200 non-null    object \n",
      " 1   Place name       200 non-null    object \n",
      " 2   Place type       200 non-null    object \n",
      " 3   Rating           198 non-null    float64\n",
      " 4   Reviews          198 non-null    float64\n",
      " 5   Price            122 non-null    object \n",
      " 6   Delivery option  129 non-null    object \n",
      " 7   Dine in option   140 non-null    object \n",
      " 8   Takeout option   144 non-null    object \n",
      "dtypes: float64(2), object(7)\n",
      "memory usage: 14.2+ KB\n"
     ]
    }
   ],
   "source": [
    "df.info()"
   ]
  },
  {
   "cell_type": "code",
   "execution_count": 4,
   "metadata": {
    "tags": []
   },
   "outputs": [
    {
     "data": {
      "text/html": [
       "<div>\n",
       "<style scoped>\n",
       "    .dataframe tbody tr th:only-of-type {\n",
       "        vertical-align: middle;\n",
       "    }\n",
       "\n",
       "    .dataframe tbody tr th {\n",
       "        vertical-align: top;\n",
       "    }\n",
       "\n",
       "    .dataframe thead th {\n",
       "        text-align: right;\n",
       "    }\n",
       "</style>\n",
       "<table border=\"1\" class=\"dataframe\">\n",
       "  <thead>\n",
       "    <tr style=\"text-align: right;\">\n",
       "      <th></th>\n",
       "      <th>Rating</th>\n",
       "      <th>Reviews</th>\n",
       "    </tr>\n",
       "  </thead>\n",
       "  <tbody>\n",
       "    <tr>\n",
       "      <th>count</th>\n",
       "      <td>198.000000</td>\n",
       "      <td>198.000000</td>\n",
       "    </tr>\n",
       "    <tr>\n",
       "      <th>mean</th>\n",
       "      <td>4.663636</td>\n",
       "      <td>622.494949</td>\n",
       "    </tr>\n",
       "    <tr>\n",
       "      <th>std</th>\n",
       "      <td>0.221648</td>\n",
       "      <td>1400.898666</td>\n",
       "    </tr>\n",
       "    <tr>\n",
       "      <th>min</th>\n",
       "      <td>3.900000</td>\n",
       "      <td>3.000000</td>\n",
       "    </tr>\n",
       "    <tr>\n",
       "      <th>25%</th>\n",
       "      <td>4.600000</td>\n",
       "      <td>47.500000</td>\n",
       "    </tr>\n",
       "    <tr>\n",
       "      <th>50%</th>\n",
       "      <td>4.700000</td>\n",
       "      <td>271.500000</td>\n",
       "    </tr>\n",
       "    <tr>\n",
       "      <th>75%</th>\n",
       "      <td>4.800000</td>\n",
       "      <td>786.250000</td>\n",
       "    </tr>\n",
       "    <tr>\n",
       "      <th>max</th>\n",
       "      <td>5.000000</td>\n",
       "      <td>17937.000000</td>\n",
       "    </tr>\n",
       "  </tbody>\n",
       "</table>\n",
       "</div>"
      ],
      "text/plain": [
       "           Rating       Reviews\n",
       "count  198.000000    198.000000\n",
       "mean     4.663636    622.494949\n",
       "std      0.221648   1400.898666\n",
       "min      3.900000      3.000000\n",
       "25%      4.600000     47.500000\n",
       "50%      4.700000    271.500000\n",
       "75%      4.800000    786.250000\n",
       "max      5.000000  17937.000000"
      ]
     },
     "execution_count": 4,
     "metadata": {},
     "output_type": "execute_result"
    }
   ],
   "source": [
    "df.describe()"
   ]
  },
  {
   "cell_type": "markdown",
   "metadata": {},
   "source": [
    "A summary statistics table to see if there's anything that jumps to the eye."
   ]
  },
  {
   "cell_type": "code",
   "execution_count": 5,
   "metadata": {
    "tags": []
   },
   "outputs": [
    {
     "data": {
      "image/png": "[encoded data removed]",
      "text/plain": [
       "<Figure size 432x288 with 1 Axes>"
      ]
     },
     "metadata": {},
     "output_type": "display_data"
    }
   ],
   "source": [
    "sns.set_style('whitegrid')\n",
    "sns.histplot(x='Region', data=df)\n",
    "plt.xticks(rotation=90)\n",
    "plt.show()"
   ]
  },
  {
   "cell_type": "markdown",
   "metadata": {},
   "source": [
    "We take a look at the Region column and see that it's uniformally distributed."
   ]
  },
  {
   "cell_type": "code",
   "execution_count": 6,
   "metadata": {
    "tags": []
   },
   "outputs": [
    {
     "data": {
      "image/png": "[encoded data removed]",
      "text/plain": [
       "<Figure size 432x288 with 1 Axes>"
      ]
     },
     "metadata": {},
     "output_type": "display_data"
    }
   ],
   "source": [
    "sns.histplot(x='Place type', data=df)\n",
    "plt.xticks(rotation=90)\n",
    "plt.show()"
   ]
  },
  {
   "cell_type": "markdown",
   "metadata": {},
   "source": [
    "The most common shop type is the Coffee Shop, followed by Cafe and Espresso bar."
   ]
  },
  {
   "cell_type": "code",
   "execution_count": 7,
   "metadata": {
    "tags": []
   },
   "outputs": [
    {
     "data": {
      "image/png": "[encoded data removed]",
      "text/plain": [
       "<Figure size 720x360 with 2 Axes>"
      ]
     },
     "metadata": {},
     "output_type": "display_data"
    }
   ],
   "source": [
    "# plot the numeric features' histograms\n",
    "\n",
    "fig, ax = plt.subplots(1, 2, figsize=(10, 5))\n",
    "ax1 = sns.histplot(x='Rating', data=df, ax=ax[0])\n",
    "ax2 = sns.histplot(x='Reviews', data=df, ax=ax[1])"
   ]
  },
  {
   "cell_type": "markdown",
   "metadata": {},
   "source": [
    "We plot the Rating and Reviews columns to see any trends. The Rating histogram seems to be mostly centered in the 4.6 range, while the Reviews seems to have an outlier with over 17000 reviews!\n",
    "\n",
    "We're going to give the data some treatment before further analysis."
   ]
  },
  {
   "cell_type": "code",
   "execution_count": 8,
   "metadata": {
    "tags": []
   },
   "outputs": [
    {
     "name": "stdout",
     "output_type": "stream",
     "text": [
      "Place type    category\n",
      "Region        category\n",
      "Price         category\n",
      "dtype: object\n",
      "Delivery option    bool\n",
      "Dine in option     bool\n",
      "Takeout option     bool\n",
      "dtype: object\n"
     ]
    },
    {
     "data": {
      "text/html": [
       "<div>\n",
       "<style scoped>\n",
       "    .dataframe tbody tr th:only-of-type {\n",
       "        vertical-align: middle;\n",
       "    }\n",
       "\n",
       "    .dataframe tbody tr th {\n",
       "        vertical-align: top;\n",
       "    }\n",
       "\n",
       "    .dataframe thead th {\n",
       "        text-align: right;\n",
       "    }\n",
       "</style>\n",
       "<table border=\"1\" class=\"dataframe\">\n",
       "  <thead>\n",
       "    <tr style=\"text-align: right;\">\n",
       "      <th></th>\n",
       "      <th>Rating</th>\n",
       "      <th>Reviews</th>\n",
       "      <th>Delivery option</th>\n",
       "      <th>Dine in option</th>\n",
       "      <th>Takeout option</th>\n",
       "      <th>dum_Dnipro</th>\n",
       "      <th>dum_Kharkiv</th>\n",
       "      <th>dum_Kherson</th>\n",
       "      <th>dum_Khrivoy Rog</th>\n",
       "      <th>dum_Kiev</th>\n",
       "      <th>...</th>\n",
       "      <th>dum_E-commerce service</th>\n",
       "      <th>dum_Espresso bar</th>\n",
       "      <th>dum_European restaurant</th>\n",
       "      <th>dum_Internet shop</th>\n",
       "      <th>dum_Pastry shop</th>\n",
       "      <th>dum_Restaurant</th>\n",
       "      <th>dum_Store</th>\n",
       "      <th>dum_$</th>\n",
       "      <th>dum_$$</th>\n",
       "      <th>dum_$$$</th>\n",
       "    </tr>\n",
       "  </thead>\n",
       "  <tbody>\n",
       "    <tr>\n",
       "      <th>0</th>\n",
       "      <td>4.6</td>\n",
       "      <td>206.0</td>\n",
       "      <td>True</td>\n",
       "      <td>True</td>\n",
       "      <td>True</td>\n",
       "      <td>0</td>\n",
       "      <td>0</td>\n",
       "      <td>0</td>\n",
       "      <td>0</td>\n",
       "      <td>0</td>\n",
       "      <td>...</td>\n",
       "      <td>0</td>\n",
       "      <td>0</td>\n",
       "      <td>0</td>\n",
       "      <td>0</td>\n",
       "      <td>0</td>\n",
       "      <td>0</td>\n",
       "      <td>0</td>\n",
       "      <td>0</td>\n",
       "      <td>1</td>\n",
       "      <td>0</td>\n",
       "    </tr>\n",
       "    <tr>\n",
       "      <th>1</th>\n",
       "      <td>5.0</td>\n",
       "      <td>24.0</td>\n",
       "      <td>False</td>\n",
       "      <td>True</td>\n",
       "      <td>True</td>\n",
       "      <td>0</td>\n",
       "      <td>0</td>\n",
       "      <td>0</td>\n",
       "      <td>0</td>\n",
       "      <td>0</td>\n",
       "      <td>...</td>\n",
       "      <td>0</td>\n",
       "      <td>0</td>\n",
       "      <td>0</td>\n",
       "      <td>0</td>\n",
       "      <td>0</td>\n",
       "      <td>0</td>\n",
       "      <td>0</td>\n",
       "      <td>0</td>\n",
       "      <td>1</td>\n",
       "      <td>0</td>\n",
       "    </tr>\n",
       "    <tr>\n",
       "      <th>2</th>\n",
       "      <td>5.0</td>\n",
       "      <td>11.0</td>\n",
       "      <td>True</td>\n",
       "      <td>True</td>\n",
       "      <td>True</td>\n",
       "      <td>0</td>\n",
       "      <td>0</td>\n",
       "      <td>0</td>\n",
       "      <td>0</td>\n",
       "      <td>0</td>\n",
       "      <td>...</td>\n",
       "      <td>0</td>\n",
       "      <td>0</td>\n",
       "      <td>0</td>\n",
       "      <td>0</td>\n",
       "      <td>0</td>\n",
       "      <td>0</td>\n",
       "      <td>0</td>\n",
       "      <td>0</td>\n",
       "      <td>1</td>\n",
       "      <td>0</td>\n",
       "    </tr>\n",
       "    <tr>\n",
       "      <th>3</th>\n",
       "      <td>4.4</td>\n",
       "      <td>331.0</td>\n",
       "      <td>False</td>\n",
       "      <td>True</td>\n",
       "      <td>True</td>\n",
       "      <td>0</td>\n",
       "      <td>0</td>\n",
       "      <td>0</td>\n",
       "      <td>0</td>\n",
       "      <td>0</td>\n",
       "      <td>...</td>\n",
       "      <td>0</td>\n",
       "      <td>0</td>\n",
       "      <td>0</td>\n",
       "      <td>0</td>\n",
       "      <td>0</td>\n",
       "      <td>0</td>\n",
       "      <td>0</td>\n",
       "      <td>0</td>\n",
       "      <td>1</td>\n",
       "      <td>0</td>\n",
       "    </tr>\n",
       "    <tr>\n",
       "      <th>4</th>\n",
       "      <td>5.0</td>\n",
       "      <td>12.0</td>\n",
       "      <td>True</td>\n",
       "      <td>True</td>\n",
       "      <td>True</td>\n",
       "      <td>0</td>\n",
       "      <td>0</td>\n",
       "      <td>0</td>\n",
       "      <td>0</td>\n",
       "      <td>0</td>\n",
       "      <td>...</td>\n",
       "      <td>0</td>\n",
       "      <td>0</td>\n",
       "      <td>0</td>\n",
       "      <td>0</td>\n",
       "      <td>0</td>\n",
       "      <td>0</td>\n",
       "      <td>0</td>\n",
       "      <td>0</td>\n",
       "      <td>1</td>\n",
       "      <td>0</td>\n",
       "    </tr>\n",
       "  </tbody>\n",
       "</table>\n",
       "<p>5 rows × 32 columns</p>\n",
       "</div>"
      ],
      "text/plain": [
       "   Rating  Reviews  Delivery option  Dine in option  Takeout option  \\\n",
       "0     4.6    206.0             True            True            True   \n",
       "1     5.0     24.0            False            True            True   \n",
       "2     5.0     11.0             True            True            True   \n",
       "3     4.4    331.0            False            True            True   \n",
       "4     5.0     12.0             True            True            True   \n",
       "\n",
       "   dum_Dnipro  dum_Kharkiv  dum_Kherson  dum_Khrivoy Rog  dum_Kiev  ...  \\\n",
       "0           0            0            0                0         0  ...   \n",
       "1           0            0            0                0         0  ...   \n",
       "2           0            0            0                0         0  ...   \n",
       "3           0            0            0                0         0  ...   \n",
       "4           0            0            0                0         0  ...   \n",
       "\n",
       "   dum_E-commerce service  dum_Espresso bar  dum_European restaurant  \\\n",
       "0                       0                 0                        0   \n",
       "1                       0                 0                        0   \n",
       "2                       0                 0                        0   \n",
       "3                       0                 0                        0   \n",
       "4                       0                 0                        0   \n",
       "\n",
       "   dum_Internet shop  dum_Pastry shop  dum_Restaurant  dum_Store  dum_$  \\\n",
       "0                  0                0               0          0      0   \n",
       "1                  0                0               0          0      0   \n",
       "2                  0                0               0          0      0   \n",
       "3                  0                0               0          0      0   \n",
       "4                  0                0               0          0      0   \n",
       "\n",
       "   dum_$$  dum_$$$  \n",
       "0       1        0  \n",
       "1       1        0  \n",
       "2       1        0  \n",
       "3       1        0  \n",
       "4       1        0  \n",
       "\n",
       "[5 rows x 32 columns]"
      ]
     },
     "execution_count": 8,
     "metadata": {},
     "output_type": "execute_result"
    }
   ],
   "source": [
    "# create the categories\n",
    "cats = ['Place type', 'Region', 'Price']\n",
    "df[cats] = df[cats].astype('category')\n",
    "\n",
    "print(df[cats].dtypes)\n",
    "\n",
    "# cap the reviews max numbers into the max percentile to not drop the outlier value\n",
    "percentiles = df.Reviews.quantile([0.05, 0.95]).values\n",
    "df['Reviews'][df['Reviews'] >= percentiles[1]] = percentiles[1] \n",
    "\n",
    "# convert delivery, dine in and takeout option into boolean\n",
    "# this will overwrite the NaNs into Trues, but that's a reasonable option\n",
    "bools = ['Delivery option', 'Dine in option', 'Takeout option']\n",
    "\n",
    "df[bools] = df[bools].astype(bool)\n",
    "print(df[bools].dtypes)\n",
    "df.Price = df.Price.cat.reorder_categories(['$$$', '$$', '$'])\n",
    "\n",
    "# input some values into NaNs\n",
    "df.Price.fillna('$$', inplace=True)\n",
    "df.Reviews.fillna(df.Reviews.mean(), inplace=True)\n",
    "df.Rating.fillna(df.Rating.mean(), inplace=True)\n",
    "\n",
    "# reforce the ordering of the prices ascending\n",
    "df.Price = df.Price.cat.reorder_categories(['$', '$$', '$$$'])\n",
    "\n",
    "# create dummies\n",
    "df_cat = df.drop('Place name', axis=1)\n",
    "df_cat = pd.get_dummies(df_cat, prefix='dum')\n",
    "df_cat.head()\n"
   ]
  },
  {
   "cell_type": "code",
   "execution_count": 9,
   "metadata": {
    "tags": []
   },
   "outputs": [
    {
     "data": {
      "text/html": [
       "<div>\n",
       "<style scoped>\n",
       "    .dataframe tbody tr th:only-of-type {\n",
       "        vertical-align: middle;\n",
       "    }\n",
       "\n",
       "    .dataframe tbody tr th {\n",
       "        vertical-align: top;\n",
       "    }\n",
       "\n",
       "    .dataframe thead th {\n",
       "        text-align: right;\n",
       "    }\n",
       "</style>\n",
       "<table border=\"1\" class=\"dataframe\">\n",
       "  <thead>\n",
       "    <tr style=\"text-align: right;\">\n",
       "      <th></th>\n",
       "      <th>Rating</th>\n",
       "      <th>Reviews</th>\n",
       "    </tr>\n",
       "    <tr>\n",
       "      <th>Place type</th>\n",
       "      <th></th>\n",
       "      <th></th>\n",
       "    </tr>\n",
       "  </thead>\n",
       "  <tbody>\n",
       "    <tr>\n",
       "      <th>Appliance repair service</th>\n",
       "      <td>5.000000</td>\n",
       "      <td>15.000000</td>\n",
       "    </tr>\n",
       "    <tr>\n",
       "      <th>Cafe</th>\n",
       "      <td>4.599373</td>\n",
       "      <td>30683.485859</td>\n",
       "    </tr>\n",
       "    <tr>\n",
       "      <th>Chocolate shop</th>\n",
       "      <td>4.600000</td>\n",
       "      <td>1376.000000</td>\n",
       "    </tr>\n",
       "    <tr>\n",
       "      <th>Coffee roasters</th>\n",
       "      <td>4.800000</td>\n",
       "      <td>1214.000000</td>\n",
       "    </tr>\n",
       "    <tr>\n",
       "      <th>Coffee shop</th>\n",
       "      <td>4.681068</td>\n",
       "      <td>51616.285859</td>\n",
       "    </tr>\n",
       "    <tr>\n",
       "      <th>Coffee stand</th>\n",
       "      <td>4.500000</td>\n",
       "      <td>167.000000</td>\n",
       "    </tr>\n",
       "    <tr>\n",
       "      <th>Coffee store</th>\n",
       "      <td>4.645455</td>\n",
       "      <td>3833.000000</td>\n",
       "    </tr>\n",
       "    <tr>\n",
       "      <th>E-commerce service</th>\n",
       "      <td>5.000000</td>\n",
       "      <td>21.000000</td>\n",
       "    </tr>\n",
       "    <tr>\n",
       "      <th>Espresso bar</th>\n",
       "      <td>4.690000</td>\n",
       "      <td>10519.000000</td>\n",
       "    </tr>\n",
       "    <tr>\n",
       "      <th>European restaurant</th>\n",
       "      <td>4.500000</td>\n",
       "      <td>1345.000000</td>\n",
       "    </tr>\n",
       "    <tr>\n",
       "      <th>Internet shop</th>\n",
       "      <td>5.000000</td>\n",
       "      <td>12.000000</td>\n",
       "    </tr>\n",
       "    <tr>\n",
       "      <th>Pastry shop</th>\n",
       "      <td>4.800000</td>\n",
       "      <td>2071.400000</td>\n",
       "    </tr>\n",
       "    <tr>\n",
       "      <th>Restaurant</th>\n",
       "      <td>4.600000</td>\n",
       "      <td>963.000000</td>\n",
       "    </tr>\n",
       "    <tr>\n",
       "      <th>Store</th>\n",
       "      <td>4.866667</td>\n",
       "      <td>181.000000</td>\n",
       "    </tr>\n",
       "  </tbody>\n",
       "</table>\n",
       "</div>"
      ],
      "text/plain": [
       "                            Rating       Reviews\n",
       "Place type                                      \n",
       "Appliance repair service  5.000000     15.000000\n",
       "Cafe                      4.599373  30683.485859\n",
       "Chocolate shop            4.600000   1376.000000\n",
       "Coffee roasters           4.800000   1214.000000\n",
       "Coffee shop               4.681068  51616.285859\n",
       "Coffee stand              4.500000    167.000000\n",
       "Coffee store              4.645455   3833.000000\n",
       "E-commerce service        5.000000     21.000000\n",
       "Espresso bar              4.690000  10519.000000\n",
       "European restaurant       4.500000   1345.000000\n",
       "Internet shop             5.000000     12.000000\n",
       "Pastry shop               4.800000   2071.400000\n",
       "Restaurant                4.600000    963.000000\n",
       "Store                     4.866667    181.000000"
      ]
     },
     "execution_count": 9,
     "metadata": {},
     "output_type": "execute_result"
    }
   ],
   "source": [
    "# some more analysis before cleaning further treating \n",
    "\n",
    "df.groupby('Place type')['Rating', 'Reviews'].agg({'Rating' : 'mean', 'Reviews' : 'sum'})"
   ]
  },
  {
   "cell_type": "markdown",
   "metadata": {},
   "source": [
    "This is a table to see how the Rating and Reviews vary between different shop types. The ones that stand out are the Cafe and Coffee Shop types."
   ]
  },
  {
   "cell_type": "code",
   "execution_count": 10,
   "metadata": {
    "tags": []
   },
   "outputs": [
    {
     "data": {
      "image/png": "[encoded data removed]",
      "text/plain": [
       "<Figure size 432x288 with 1 Axes>"
      ]
     },
     "metadata": {},
     "output_type": "display_data"
    }
   ],
   "source": [
    "from scipy.cluster.hierarchy import linkage, fcluster, dendrogram\n",
    "from sklearn.preprocessing import StandardScaler\n",
    "\n",
    "features = ['Rating', 'Reviews']\n",
    "scaler = StandardScaler()\n",
    "df_cat[features] = scaler.fit_transform(df_cat[features])\n",
    "\n",
    "dm = linkage(df_cat, method='ward', metric='euclidean')\n",
    "dn = dendrogram(dm)\n",
    "plt.show()"
   ]
  },
  {
   "cell_type": "markdown",
   "metadata": {},
   "source": [
    "By using hierarchical clustering we found three segments of coffee shops by the data gathered. They were clustered together by each feature -Rating, Reviews, Price, etc.-"
   ]
  },
  {
   "cell_type": "code",
   "execution_count": 11,
   "metadata": {
    "tags": []
   },
   "outputs": [],
   "source": [
    "from scipy.cluster.hierarchy import cut_tree\n",
    "clust = pd.Series(cut_tree(dm, n_clusters=3).reshape(-1,))"
   ]
  },
  {
   "cell_type": "code",
   "execution_count": 12,
   "metadata": {
    "tags": []
   },
   "outputs": [
    {
     "data": {
      "text/html": [
       "<div>\n",
       "<style scoped>\n",
       "    .dataframe tbody tr th:only-of-type {\n",
       "        vertical-align: middle;\n",
       "    }\n",
       "\n",
       "    .dataframe tbody tr th {\n",
       "        vertical-align: top;\n",
       "    }\n",
       "\n",
       "    .dataframe thead th {\n",
       "        text-align: right;\n",
       "    }\n",
       "</style>\n",
       "<table border=\"1\" class=\"dataframe\">\n",
       "  <thead>\n",
       "    <tr style=\"text-align: right;\">\n",
       "      <th></th>\n",
       "      <th>Region</th>\n",
       "      <th>Place name</th>\n",
       "      <th>Place type</th>\n",
       "      <th>Rating</th>\n",
       "      <th>Reviews</th>\n",
       "      <th>Price</th>\n",
       "      <th>Delivery option</th>\n",
       "      <th>Dine in option</th>\n",
       "      <th>Takeout option</th>\n",
       "      <th>ClusterID</th>\n",
       "    </tr>\n",
       "  </thead>\n",
       "  <tbody>\n",
       "    <tr>\n",
       "      <th>0</th>\n",
       "      <td>Mariupol</td>\n",
       "      <td>Dim Kavu</td>\n",
       "      <td>Coffee store</td>\n",
       "      <td>4.6</td>\n",
       "      <td>206.0</td>\n",
       "      <td>$$</td>\n",
       "      <td>True</td>\n",
       "      <td>True</td>\n",
       "      <td>True</td>\n",
       "      <td>0</td>\n",
       "    </tr>\n",
       "    <tr>\n",
       "      <th>1</th>\n",
       "      <td>Mariupol</td>\n",
       "      <td>Коферум</td>\n",
       "      <td>Cafe</td>\n",
       "      <td>5.0</td>\n",
       "      <td>24.0</td>\n",
       "      <td>$$</td>\n",
       "      <td>False</td>\n",
       "      <td>True</td>\n",
       "      <td>True</td>\n",
       "      <td>1</td>\n",
       "    </tr>\n",
       "    <tr>\n",
       "      <th>2</th>\n",
       "      <td>Mariupol</td>\n",
       "      <td>Кофейня Світ Чаю</td>\n",
       "      <td>Coffee shop</td>\n",
       "      <td>5.0</td>\n",
       "      <td>11.0</td>\n",
       "      <td>$$</td>\n",
       "      <td>True</td>\n",
       "      <td>True</td>\n",
       "      <td>True</td>\n",
       "      <td>1</td>\n",
       "    </tr>\n",
       "    <tr>\n",
       "      <th>3</th>\n",
       "      <td>Mariupol</td>\n",
       "      <td>Кофейня Starcoff</td>\n",
       "      <td>Coffee shop</td>\n",
       "      <td>4.4</td>\n",
       "      <td>331.0</td>\n",
       "      <td>$$</td>\n",
       "      <td>False</td>\n",
       "      <td>True</td>\n",
       "      <td>True</td>\n",
       "      <td>0</td>\n",
       "    </tr>\n",
       "    <tr>\n",
       "      <th>4</th>\n",
       "      <td>Mariupol</td>\n",
       "      <td>Кофейня \"Friend Zone\"</td>\n",
       "      <td>Coffee shop</td>\n",
       "      <td>5.0</td>\n",
       "      <td>12.0</td>\n",
       "      <td>$$</td>\n",
       "      <td>True</td>\n",
       "      <td>True</td>\n",
       "      <td>True</td>\n",
       "      <td>1</td>\n",
       "    </tr>\n",
       "  </tbody>\n",
       "</table>\n",
       "</div>"
      ],
      "text/plain": [
       "     Region             Place name    Place type  Rating  Reviews Price  \\\n",
       "0  Mariupol               Dim Kavu  Coffee store     4.6    206.0    $$   \n",
       "1  Mariupol                Коферум          Cafe     5.0     24.0    $$   \n",
       "2  Mariupol       Кофейня Світ Чаю   Coffee shop     5.0     11.0    $$   \n",
       "3  Mariupol       Кофейня Starcoff   Coffee shop     4.4    331.0    $$   \n",
       "4  Mariupol  Кофейня \"Friend Zone\"   Coffee shop     5.0     12.0    $$   \n",
       "\n",
       "   Delivery option  Dine in option  Takeout option  ClusterID  \n",
       "0             True            True            True          0  \n",
       "1            False            True            True          1  \n",
       "2             True            True            True          1  \n",
       "3            False            True            True          0  \n",
       "4             True            True            True          1  "
      ]
     },
     "execution_count": 12,
     "metadata": {},
     "output_type": "execute_result"
    }
   ],
   "source": [
    "df_complete = pd.concat([df, clust], axis=1)\n",
    "df_complete.rename(columns={0 : 'ClusterID'}, inplace=True)\n",
    "df_complete.head()"
   ]
  },
  {
   "cell_type": "markdown",
   "metadata": {},
   "source": [
    "We modify the data by inserting the clusters the model found. "
   ]
  },
  {
   "cell_type": "code",
   "execution_count": 13,
   "metadata": {
    "tags": []
   },
   "outputs": [
    {
     "data": {
      "image/png": "[encoded data removed]",
      "text/plain": [
       "<Figure size 432x288 with 1 Axes>"
      ]
     },
     "metadata": {},
     "output_type": "display_data"
    }
   ],
   "source": [
    "sns.histplot(x='ClusterID', data=df_complete)\n",
    "plt.show()"
   ]
  },
  {
   "cell_type": "code",
   "execution_count": 23,
   "metadata": {
    "tags": []
   },
   "outputs": [
    {
     "data": {
      "image/png": "[encoded data removed]",
      "text/plain": [
       "<Figure size 432x288 with 1 Axes>"
      ]
     },
     "metadata": {},
     "output_type": "display_data"
    }
   ],
   "source": [
    "sns.scatterplot(x='Rating', y='Reviews', hue='ClusterID', data=df_complete)\n",
    "plt.show()"
   ]
  },
  {
   "cell_type": "markdown",
   "metadata": {},
   "source": [
    "This is a scatter plot of the Rating and Reviews to see how they are clustered by the model."
   ]
  },
  {
   "cell_type": "code",
   "execution_count": 15,
   "metadata": {
    "tags": []
   },
   "outputs": [
    {
     "data": {
      "text/html": [
       "<div>\n",
       "<style scoped>\n",
       "    .dataframe tbody tr th:only-of-type {\n",
       "        vertical-align: middle;\n",
       "    }\n",
       "\n",
       "    .dataframe tbody tr th {\n",
       "        vertical-align: top;\n",
       "    }\n",
       "\n",
       "    .dataframe thead th {\n",
       "        text-align: right;\n",
       "    }\n",
       "</style>\n",
       "<table border=\"1\" class=\"dataframe\">\n",
       "  <thead>\n",
       "    <tr style=\"text-align: right;\">\n",
       "      <th></th>\n",
       "      <th>Rating</th>\n",
       "      <th>Reviews</th>\n",
       "      <th>ClusterID</th>\n",
       "    </tr>\n",
       "    <tr>\n",
       "      <th>ClusterID</th>\n",
       "      <th></th>\n",
       "      <th></th>\n",
       "      <th></th>\n",
       "    </tr>\n",
       "  </thead>\n",
       "  <tbody>\n",
       "    <tr>\n",
       "      <th>0</th>\n",
       "      <td>4.577029</td>\n",
       "      <td>40449.171717</td>\n",
       "      <td>112</td>\n",
       "    </tr>\n",
       "    <tr>\n",
       "      <th>1</th>\n",
       "      <td>4.924490</td>\n",
       "      <td>3441.000000</td>\n",
       "      <td>49</td>\n",
       "    </tr>\n",
       "    <tr>\n",
       "      <th>2</th>\n",
       "      <td>4.584615</td>\n",
       "      <td>60127.000000</td>\n",
       "      <td>39</td>\n",
       "    </tr>\n",
       "  </tbody>\n",
       "</table>\n",
       "</div>"
      ],
      "text/plain": [
       "             Rating       Reviews  ClusterID\n",
       "ClusterID                                   \n",
       "0          4.577029  40449.171717        112\n",
       "1          4.924490   3441.000000         49\n",
       "2          4.584615  60127.000000         39"
      ]
     },
     "execution_count": 15,
     "metadata": {},
     "output_type": "execute_result"
    }
   ],
   "source": [
    "df_complete.groupby('ClusterID').agg({'Rating' : 'mean', 'Reviews' : 'sum', 'ClusterID' : 'count'})\n"
   ]
  },
  {
   "cell_type": "markdown",
   "metadata": {},
   "source": [
    "The first cluster has a lot of reviews and a average rating of 4,57. The second one has an excellent rating, but little reviews to compensate. They could be newer shops or located in not so popular towns. The last one has about the same rating as the first. but has more reviews. They should be older shops or more popular ones located in the central region."
   ]
  },
  {
   "cell_type": "code",
   "execution_count": 27,
   "metadata": {
    "tags": []
   },
   "outputs": [
    {
     "data": {
      "text/html": [
       "<div>\n",
       "<style scoped>\n",
       "    .dataframe tbody tr th:only-of-type {\n",
       "        vertical-align: middle;\n",
       "    }\n",
       "\n",
       "    .dataframe tbody tr th {\n",
       "        vertical-align: top;\n",
       "    }\n",
       "\n",
       "    .dataframe thead th {\n",
       "        text-align: right;\n",
       "    }\n",
       "</style>\n",
       "<table border=\"1\" class=\"dataframe\">\n",
       "  <thead>\n",
       "    <tr style=\"text-align: right;\">\n",
       "      <th></th>\n",
       "      <th>Rating</th>\n",
       "      <th>Reviews</th>\n",
       "    </tr>\n",
       "    <tr>\n",
       "      <th>Region</th>\n",
       "      <th></th>\n",
       "      <th></th>\n",
       "    </tr>\n",
       "  </thead>\n",
       "  <tbody>\n",
       "    <tr>\n",
       "      <th>Dnipro</th>\n",
       "      <td>4.553182</td>\n",
       "      <td>11372.485859</td>\n",
       "    </tr>\n",
       "    <tr>\n",
       "      <th>Kharkiv</th>\n",
       "      <td>4.575000</td>\n",
       "      <td>9999.400000</td>\n",
       "    </tr>\n",
       "    <tr>\n",
       "      <th>Kherson</th>\n",
       "      <td>4.643182</td>\n",
       "      <td>7553.085859</td>\n",
       "    </tr>\n",
       "    <tr>\n",
       "      <th>Khrivoy Rog</th>\n",
       "      <td>4.600000</td>\n",
       "      <td>9238.000000</td>\n",
       "    </tr>\n",
       "    <tr>\n",
       "      <th>Kiev</th>\n",
       "      <td>4.785000</td>\n",
       "      <td>14997.400000</td>\n",
       "    </tr>\n",
       "    <tr>\n",
       "      <th>Lviv</th>\n",
       "      <td>4.670000</td>\n",
       "      <td>20829.000000</td>\n",
       "    </tr>\n",
       "    <tr>\n",
       "      <th>Mariupol</th>\n",
       "      <td>4.700000</td>\n",
       "      <td>3876.000000</td>\n",
       "    </tr>\n",
       "    <tr>\n",
       "      <th>Odessa</th>\n",
       "      <td>4.785000</td>\n",
       "      <td>7647.800000</td>\n",
       "    </tr>\n",
       "    <tr>\n",
       "      <th>Poltava</th>\n",
       "      <td>4.655000</td>\n",
       "      <td>10705.000000</td>\n",
       "    </tr>\n",
       "    <tr>\n",
       "      <th>Zaporozhye</th>\n",
       "      <td>4.670000</td>\n",
       "      <td>7799.000000</td>\n",
       "    </tr>\n",
       "  </tbody>\n",
       "</table>\n",
       "</div>"
      ],
      "text/plain": [
       "               Rating       Reviews\n",
       "Region                             \n",
       "Dnipro       4.553182  11372.485859\n",
       "Kharkiv      4.575000   9999.400000\n",
       "Kherson      4.643182   7553.085859\n",
       "Khrivoy Rog  4.600000   9238.000000\n",
       "Kiev         4.785000  14997.400000\n",
       "Lviv         4.670000  20829.000000\n",
       "Mariupol     4.700000   3876.000000\n",
       "Odessa       4.785000   7647.800000\n",
       "Poltava      4.655000  10705.000000\n",
       "Zaporozhye   4.670000   7799.000000"
      ]
     },
     "execution_count": 27,
     "metadata": {},
     "output_type": "execute_result"
    }
   ],
   "source": [
    "df_complete.groupby('Region').agg({'Rating' : 'mean', 'Reviews' : 'sum'})"
   ]
  },
  {
   "cell_type": "markdown",
   "metadata": {},
   "source": [
    "In fact by controlling for region we see that Kiev is tied with Odessa for the highest average rating, but has double the reviews."
   ]
  },
  {
   "cell_type": "code",
   "execution_count": 17,
   "metadata": {
    "tags": []
   },
   "outputs": [],
   "source": [
    "cluster0 = df_complete[df_complete.ClusterID == 0]\n",
    "cluster1 = df_complete[df_complete.ClusterID == 1]\n",
    "cluster2 = df_complete[df_complete.ClusterID == 2]"
   ]
  },
  {
   "cell_type": "code",
   "execution_count": 29,
   "metadata": {
    "tags": []
   },
   "outputs": [
    {
     "name": "stdout",
     "output_type": "stream",
     "text": [
      "Price ranges for the first cluster\n"
     ]
    },
    {
     "data": {
      "text/plain": [
       "$$     111\n",
       "$$$      1\n",
       "$        0\n",
       "Name: Price, dtype: int64"
      ]
     },
     "execution_count": 29,
     "metadata": {},
     "output_type": "execute_result"
    }
   ],
   "source": [
    "print('Price ranges for the first cluster')\n",
    "cluster0.Price.value_counts()"
   ]
  },
  {
   "cell_type": "code",
   "execution_count": 30,
   "metadata": {
    "tags": []
   },
   "outputs": [
    {
     "name": "stdout",
     "output_type": "stream",
     "text": [
      "Price ranges for the second cluster\n"
     ]
    },
    {
     "data": {
      "text/plain": [
       "$$     49\n",
       "$       0\n",
       "$$$     0\n",
       "Name: Price, dtype: int64"
      ]
     },
     "execution_count": 30,
     "metadata": {},
     "output_type": "execute_result"
    }
   ],
   "source": [
    "print('Price ranges for the second cluster')\n",
    "cluster1.Price.value_counts()"
   ]
  },
  {
   "cell_type": "code",
   "execution_count": 31,
   "metadata": {
    "tags": []
   },
   "outputs": [
    {
     "name": "stdout",
     "output_type": "stream",
     "text": [
      "Price ranges for the third cluster\n"
     ]
    },
    {
     "data": {
      "text/plain": [
       "$$     34\n",
       "$$$     3\n",
       "$       2\n",
       "Name: Price, dtype: int64"
      ]
     },
     "execution_count": 31,
     "metadata": {},
     "output_type": "execute_result"
    }
   ],
   "source": [
    "print('Price ranges for the third cluster')\n",
    "cluster2.Price.value_counts()"
   ]
  },
  {
   "cell_type": "markdown",
   "metadata": {},
   "source": [
    "The Price ranges for each cluster. The first one has only one expensive option while the rest is the accessible option. The second cluster has only acessible shops and the last cluster has three expensive shops and the two cheaper ones."
   ]
  },
  {
   "cell_type": "code",
   "execution_count": 32,
   "metadata": {
    "tags": []
   },
   "outputs": [
    {
     "data": {
      "image/png": "[encoded data removed]",
      "text/plain": [
       "<Figure size 1080x360 with 3 Axes>"
      ]
     },
     "metadata": {},
     "output_type": "display_data"
    }
   ],
   "source": [
    "fig, ax = plt.subplots(1, 3, figsize=(15,5), sharey=True)\n",
    "ax1 = sns.histplot(x='Region', data=cluster0, ax=ax[0])\n",
    "ax2 = sns.histplot(x='Region', data=cluster1, ax=ax[1])\n",
    "ax3 = sns.histplot(x='Region', data=cluster2, ax=ax[2])\n",
    "\n",
    "cols = df_complete.Region.unique()\n",
    "ax[0].tick_params(axis='x', rotation=90)\n",
    "ax[1].tick_params(axis='x', rotation=90)\n",
    "ax[2].tick_params(axis='x', rotation=90)\n",
    "\n",
    "ax[0].set_xlabel('Region_cluster0')\n",
    "ax[1].set_xlabel('Region_cluster1')\n",
    "ax[2].set_xlabel('Region_cluster2')\n",
    "plt.show()\n"
   ]
  },
  {
   "cell_type": "markdown",
   "metadata": {},
   "source": [
    "Region distribution by cluster. The first one is more spread throughout the country, while  the second and third seem to be centralized."
   ]
  },
  {
   "cell_type": "code",
   "execution_count": 34,
   "metadata": {
    "tags": []
   },
   "outputs": [
    {
     "data": {
      "image/png": "[encoded data removed]",
      "text/plain": [
       "<Figure size 1080x360 with 3 Axes>"
      ]
     },
     "metadata": {},
     "output_type": "display_data"
    }
   ],
   "source": [
    "fig, ax = plt.subplots(1, 3, figsize=(15,5), sharey=True)\n",
    "ax1 = sns.histplot(x='Place type', data=cluster0, ax=ax[0])\n",
    "ax2 = sns.histplot(x='Place type', data=cluster1, ax=ax[1])\n",
    "ax3 = sns.histplot(x='Place type', data=cluster2, ax=ax[2])\n",
    "\n",
    "cols = df_complete.Region.unique()\n",
    "ax[0].tick_params(axis='x', rotation=90)\n",
    "ax[1].tick_params(axis='x', rotation=90)\n",
    "ax[2].tick_params(axis='x', rotation=90)\n",
    "\n",
    "ax[0].set_xlabel('Place type_cluster0')\n",
    "ax[1].set_xlabel('Place type_cluster1')\n",
    "ax[2].set_xlabel('Place type_cluster2')\n",
    "plt.show()"
   ]
  },
  {
   "cell_type": "markdown",
   "metadata": {},
   "source": [
    "Shop type distribution by cluster. In the two first clusters the most common type is the Coffee Shop, but in the last one the Cafe is dominant."
   ]
  },
  {
   "cell_type": "markdown",
   "metadata": {},
   "source": [
    "The recomendations:\n",
    "\n",
    "- There are at least 3 segments in the coffee shop market in Ukraine;\n",
    "- They seem to be mostly segmented by the Rating received and the quantity of Reviews;\n",
    "- The best rated Coffee Shops seem to be mostly from Kiev and Lviv;\n",
    "- There are a lot of highly rated shops, but with little reviews. They could be new shops or in the countryside, where they shouldn't be popular;\n",
    "- The last cluster also includes the  most expensive shops;\n",
    "- We could aim for franchising in the cafes of the second cluster, since they seem to be most popular and the ones that aggregate more value.\n",
    "\n",
    "What could be done better:\n",
    "\n",
    "- See if there's a better method to cluster categorical variables;\n",
    "- Gather more data;\n",
    "- Use a more complex model to extract more info;\n",
    "- Better NaN treatment."
   ]
  },
  {
   "cell_type": "code",
   "execution_count": null,
   "metadata": {},
   "outputs": [],
   "source": []
  }
 ],
 "metadata": {
  "colab": {
   "name": "Welcome to DataCamp Workspaces.ipynb",
   "provenance": []
  },
  "kernelspec": {
   "display_name": "Python 3 (ipykernel)",
   "language": "python",
   "name": "python3"
  },
  "language_info": {
   "codemirror_mode": {
    "name": "ipython",
    "version": 3
   },
   "file_extension": ".py",
   "mimetype": "text/x-python",
   "name": "python",
   "nbconvert_exporter": "python",
   "pygments_lexer": "ipython3",
   "version": "3.8.10"
  }
 },
 "nbformat": 4,
 "nbformat_minor": 4
}
